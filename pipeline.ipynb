{
 "cells": [
  {
   "cell_type": "code",
   "execution_count": 1,
   "id": "237faf83",
   "metadata": {},
   "outputs": [],
   "source": [
    "# ! pip install alibi-detect\n",
    "# ! pip install alibi\n",
    "# ! pip install snowflake-connector-python\n",
    "# ! pip install snowflake-sqlalchemy\n",
    "# ! pip install xgboost"
   ]
  },
  {
   "cell_type": "code",
   "execution_count": 1,
   "id": "3827ada0",
   "metadata": {},
   "outputs": [
    {
     "name": "stderr",
     "output_type": "stream",
     "text": [
      "/home/ec2-user/anaconda3/envs/python3/lib/python3.10/site-packages/xgboost/core.py:265: FutureWarning: Your system has an old version of glibc (< 2.28). We will stop supporting Linux distros with glibc older than 2.28 after **May 31, 2025**. Please upgrade to a recent Linux distro (with glibc 2.28+) to use future versions of XGBoost.\n",
      "Note: You have installed the 'manylinux2014' variant of XGBoost. Certain features such as GPU algorithms or federated learning are not available. To use these features, please upgrade to a recent Linux distro with glibc 2.28+, and install the 'manylinux_2_28' variant.\n",
      "  warnings.warn(\n"
     ]
    }
   ],
   "source": [
    "from utils import data_drift_monitor,model_drift_monitor,retrain_model,finalize_model,deploy_model\n",
    "import warnings\n",
    "warnings.filterwarnings('ignore')"
   ]
  },
  {
   "cell_type": "markdown",
   "id": "a8623909",
   "metadata": {},
   "source": [
    "### Monitoring, Retraining and Deployment Pipeline"
   ]
  },
  {
   "cell_type": "code",
   "execution_count": 2,
   "id": "61f57346",
   "metadata": {},
   "outputs": [
    {
     "name": "stderr",
     "output_type": "stream",
     "text": [
      "None of PyTorch, TensorFlow >= 2.0, or Flax have been found. Models won't be available and only tokenizers, configuration and file/data utilities can be used.\n"
     ]
    },
    {
     "name": "stdout",
     "output_type": "stream",
     "text": [
      "There is no Model drift.\n"
     ]
    }
   ],
   "source": [
    "# checking the data drfit condition\n",
    "data_drift_log =  data_drift_monitor(0)\n",
    "data_drift = data_drift_log['is_Drift'].sum()>0\n",
    "\n",
    "# checking for the model drift condition\n",
    "labels=[False,True]\n",
    "model_drift_log= model_drift_monitor(0)\n",
    "model_drift = labels[model_drift_log['Model Drift ']]\n",
    "\n",
    "# getting the cutoff_date\n",
    "cut_off_date = model_drift_log['Time-Period'].split(' ')[2]"
   ]
  },
  {
   "cell_type": "markdown",
   "id": "caa64850",
   "metadata": {},
   "source": [
    "#### Retraining Trigger "
   ]
  },
  {
   "cell_type": "code",
   "execution_count": 3,
   "id": "3102ca6b",
   "metadata": {},
   "outputs": [
    {
     "data": {
      "text/plain": [
       "'2022-12-02'"
      ]
     },
     "execution_count": 3,
     "metadata": {},
     "output_type": "execute_result"
    }
   ],
   "source": [
    "cut_off_date"
   ]
  },
  {
   "cell_type": "code",
   "execution_count": 4,
   "id": "0a820648",
   "metadata": {},
   "outputs": [
    {
     "name": "stdout",
     "output_type": "stream",
     "text": [
      "Successfully fetched data from snowflake\n",
      "\n",
      "Shape of fetched data is  (243790, 25)\n",
      "Train, Test split done\n",
      "\n",
      "Preprocessing of Train and test data is done\n",
      "\n",
      "Feature selection executed\n",
      "\n",
      "Test performance of new retrained model \n",
      "\n",
      "RMSE is 11.950087054359967\n",
      "MAE is 8.59651992861392\n",
      "\n",
      "\n",
      "Successfully saved the retrained model\n",
      "\n",
      "Sucessfully loaded old model\n",
      "Test performance of old existing model\n",
      "RMSE is 11.859149460941214\n",
      "MAE is 8.501115407495538\n",
      "New Model  is selected\n",
      "Deployment New Model Successfully\n"
     ]
    }
   ],
   "source": [
    "# retraining the model if either model or data drift occurs\n",
    "if data_drift or model_drift:\n",
    "    \n",
    "    # perform retraining\n",
    "    new_model_metrics,old_model_metrics = retrain_model(cut_off_date)\n",
    "    \n",
    "    # finzaling which model to deploy based on the performance metrics\n",
    "    selected_model = finalize_model(new_model_metrics,old_model_metrics)\n",
    "    \n",
    "    print(f\"{selected_model} is selected\")\n",
    "    \n",
    "    # deploying the selected model\n",
    "    deploy_model(selected_model)"
   ]
  },
  {
   "cell_type": "code",
   "execution_count": null,
   "id": "0dbf7c23",
   "metadata": {},
   "outputs": [],
   "source": []
  },
  {
   "cell_type": "code",
   "execution_count": null,
   "id": "d810c35f",
   "metadata": {},
   "outputs": [],
   "source": []
  },
  {
   "cell_type": "code",
   "execution_count": null,
   "id": "bf389520",
   "metadata": {},
   "outputs": [],
   "source": []
  }
 ],
 "metadata": {
  "kernelspec": {
   "display_name": "conda_python3",
   "language": "python",
   "name": "conda_python3"
  },
  "language_info": {
   "codemirror_mode": {
    "name": "ipython",
    "version": 3
   },
   "file_extension": ".py",
   "mimetype": "text/x-python",
   "name": "python",
   "nbconvert_exporter": "python",
   "pygments_lexer": "ipython3",
   "version": "3.10.14"
  }
 },
 "nbformat": 4,
 "nbformat_minor": 5
}
